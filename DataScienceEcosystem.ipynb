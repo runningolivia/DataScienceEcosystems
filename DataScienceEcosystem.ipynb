{
 "cells": [
  {
   "cell_type": "markdown",
   "id": "ad3ff3f6-f0cb-468d-81ad-9e5d1cd0e7f3",
   "metadata": {},
   "source": [
    " # Data Science Tools and Ecosystem"
   ]
  },
  {
   "cell_type": "markdown",
   "id": "170df39c-059a-4b46-9f20-2bb0ad37ab70",
   "metadata": {},
   "source": [
    "In this notebook, the tools and ecosystem for data science are summarized "
   ]
  },
  {
   "cell_type": "markdown",
   "id": "76c2d636-b268-4002-8577-e4212bfeab3d",
   "metadata": {},
   "source": [
    "Some of the popular languages in data science are:\n",
    "1. R\n",
    "2. SQL\n",
    "3. Python\n",
    "4. VBA\n",
    "5. Scala"
   ]
  },
  {
   "cell_type": "markdown",
   "id": "7e341bd0-1bfe-4583-a346-f18b79d02d81",
   "metadata": {},
   "source": [
    "Some of the popular libraries that are used in data science include:\n",
    "1. ggplot\n",
    "2. stringr\n",
    "3. Panadas\n",
    "4. NumPy\n",
    "5. Matplotlib"
   ]
  },
  {
   "cell_type": "markdown",
   "id": "7575b7cc-ed42-44c1-80cf-ae5a51a7d79a",
   "metadata": {},
   "source": [
    "|Data science tools|\n",
    "|-----------------|\n",
    "|VS Code|\n",
    "|MATLAB|\n",
    "|R Studio|\n",
    "\n"
   ]
  },
  {
   "cell_type": "markdown",
   "id": "03ead0a0-53bd-42f6-a555-4773e02197f2",
   "metadata": {},
   "source": [
    "### Below are a few examples of evaluating arithmetic expressions in Python"
   ]
  },
  {
   "cell_type": "code",
   "execution_count": 1,
   "id": "a20b2708-c081-4026-933d-c43b15a96bac",
   "metadata": {
    "tags": []
   },
   "outputs": [
    {
     "data": {
      "text/plain": [
       "17"
      ]
     },
     "execution_count": 1,
     "metadata": {},
     "output_type": "execute_result"
    }
   ],
   "source": [
    "(3*4)+5"
   ]
  },
  {
   "cell_type": "code",
   "execution_count": 2,
   "id": "6d15bd62-519c-4666-834e-8a5efb57e1e7",
   "metadata": {
    "tags": []
   },
   "outputs": [
    {
     "data": {
      "text/plain": [
       "3.3333333333333335"
      ]
     },
     "execution_count": 2,
     "metadata": {},
     "output_type": "execute_result"
    }
   ],
   "source": [
    "# this equation will convert 200 minutes to hours\n",
    "200/60"
   ]
  },
  {
   "cell_type": "markdown",
   "id": "f2e96f70-acfe-45fa-8a93-c4ddb3b66657",
   "metadata": {},
   "source": [
    "**Objectives**\n",
    "\n",
    "- Python\n",
    "- R\n",
    "- VS Studio"
   ]
  },
  {
   "cell_type": "markdown",
   "id": "42ee8df8-0ef1-4918-a445-97e3308c566d",
   "metadata": {},
   "source": [
    "## Author \n",
    "Wenxuan zhang"
   ]
  },
  {
   "cell_type": "code",
   "execution_count": null,
   "id": "9dc6dba4-b1ee-4bc1-96f1-cf27b26bdf75",
   "metadata": {},
   "outputs": [],
   "source": []
  }
 ],
 "metadata": {
  "kernelspec": {
   "display_name": "Python",
   "language": "python",
   "name": "conda-env-python-py"
  },
  "language_info": {
   "codemirror_mode": {
    "name": "ipython",
    "version": 3
   },
   "file_extension": ".py",
   "mimetype": "text/x-python",
   "name": "python",
   "nbconvert_exporter": "python",
   "pygments_lexer": "ipython3",
   "version": "3.7.12"
  }
 },
 "nbformat": 4,
 "nbformat_minor": 5
}
